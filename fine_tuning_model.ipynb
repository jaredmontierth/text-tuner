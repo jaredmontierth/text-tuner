{
  "nbformat": 4,
  "nbformat_minor": 0,
  "metadata": {
    "colab": {
      "provenance": [],
      "authorship_tag": "ABX9TyPviV4bP1KWCnh3g3cLzeq9",
      "include_colab_link": true
    },
    "kernelspec": {
      "name": "python3",
      "display_name": "Python 3"
    },
    "language_info": {
      "name": "python"
    },
    "accelerator": "GPU",
    "gpuClass": "standard"
  },
  "cells": [
    {
      "cell_type": "markdown",
      "metadata": {
        "id": "view-in-github",
        "colab_type": "text"
      },
      "source": [
        "<a href=\"https://colab.research.google.com/github/jaredmontierth/text-tuner/blob/main/fine_tuning_model.ipynb\" target=\"_parent\"><img src=\"https://colab.research.google.com/assets/colab-badge.svg\" alt=\"Open In Colab\"/></a>"
      ]
    },
    {
      "cell_type": "code",
      "source": [],
      "metadata": {
        "id": "Ew0RN5Mm9C5m"
      },
      "execution_count": null,
      "outputs": []
    },
    {
      "cell_type": "code",
      "source": [
        "import torch"
      ],
      "metadata": {
        "id": "peR5V0CT0gsn"
      },
      "execution_count": null,
      "outputs": []
    },
    {
      "cell_type": "code",
      "source": [
        "torch.cuda.is_available()"
      ],
      "metadata": {
        "colab": {
          "base_uri": "https://localhost:8080/"
        },
        "id": "WaodlCxK0bgV",
        "outputId": "450c6fd1-6c4d-40fe-b0d7-6617d5c31399"
      },
      "execution_count": null,
      "outputs": [
        {
          "output_type": "execute_result",
          "data": {
            "text/plain": [
              "True"
            ]
          },
          "metadata": {},
          "execution_count": 2
        }
      ]
    },
    {
      "cell_type": "code",
      "source": [
        "device = torch.device(\"cuda\")\n",
        "print(device)"
      ],
      "metadata": {
        "colab": {
          "base_uri": "https://localhost:8080/"
        },
        "id": "wOenwh334Rml",
        "outputId": "742e8740-839d-4fc0-cc42-600531a3ec8a"
      },
      "execution_count": null,
      "outputs": [
        {
          "output_type": "stream",
          "name": "stdout",
          "text": [
            "cuda\n"
          ]
        }
      ]
    },
    {
      "cell_type": "code",
      "execution_count": null,
      "metadata": {
        "id": "ecg06W-5hGQv"
      },
      "outputs": [],
      "source": [
        "!pip install -U transformers\n",
        "!pip install -U datasets\n"
      ]
    },
    {
      "cell_type": "code",
      "source": [
        "from datasets import load_dataset\n",
        "print(\"loading datasets\")\n",
        "dataset = load_dataset(\"cnn_dailymail\", \"3.0.0\")\n",
        "train_dataset = dataset[\"train\"]\n",
        "val_dataset = dataset[\"validation\"]\n"
      ],
      "metadata": {
        "id": "FokmqkeuhI7c"
      },
      "execution_count": null,
      "outputs": []
    },
    {
      "cell_type": "code",
      "source": [
        "len(val_dataset)"
      ],
      "metadata": {
        "id": "GVQsx74Iimns"
      },
      "execution_count": null,
      "outputs": []
    },
    {
      "cell_type": "code",
      "source": [],
      "metadata": {
        "id": "e2Tx-6UG21zG"
      },
      "execution_count": null,
      "outputs": []
    },
    {
      "cell_type": "code",
      "source": [],
      "metadata": {
        "id": "DawdxP-X3JwJ"
      },
      "execution_count": null,
      "outputs": []
    },
    {
      "cell_type": "code",
      "source": [
        "from transformers import BartTokenizer\n",
        "\n",
        "model_name = \"facebook/bart-large-cnn\"\n",
        "tokenizer = BartTokenizer.from_pretrained(model_name)\n",
        "\n",
        "def preprocess(example):\n",
        "    \n",
        "    input_text = example[\"article\"]\n",
        "    target_text = example[\"highlights\"]\n",
        "\n",
        "    input_encoding = tokenizer(input_text, max_length=1024, padding=\"max_length\", truncation=True)\n",
        "    target_encoding = tokenizer(target_text, max_length=256, padding=\"max_length\", truncation=True)\n",
        "\n",
        "    return {\"input_ids\": input_encoding[\"input_ids\"],\n",
        "            \"attention_mask\": input_encoding[\"attention_mask\"],\n",
        "            \"labels\": target_encoding[\"input_ids\"]}\n",
        "\n",
        "print(\"preprocessing\")\n",
        "\n",
        "train_data = train_dataset.map(preprocess, batched=True)\n",
        "print(\"still preprocessing\")\n",
        "val_data = val_dataset.map(preprocess, batched=True)\n"
      ],
      "metadata": {
        "id": "XfaRHXIchURB"
      },
      "execution_count": null,
      "outputs": []
    },
    {
      "cell_type": "code",
      "source": [
        "from transformers import BartForConditionalGeneration, TrainingArguments, Seq2SeqTrainer\n",
        "\n",
        "print(\"setting model\")\n",
        "model = BartForConditionalGeneration.from_pretrained(model_name).to(device)\n",
        "\n",
        "training_args = TrainingArguments(\n",
        "    output_dir=\"./bart_summarization\",\n",
        "    num_train_epochs=3,\n",
        "    per_device_train_batch_size=4,\n",
        "    per_device_eval_batch_size=4,\n",
        "    evaluation_strategy=\"steps\",\n",
        "    eval_steps=5000,\n",
        "    save_steps=5000,\n",
        "    logging_steps=500,\n",
        "    learning_rate=3e-5,\n",
        "    warmup_steps=2000,\n",
        "    weight_decay=0.01,\n",
        ")\n",
        "\n",
        "trainer = Seq2SeqTrainer(\n",
        "    model=model,\n",
        "    args=training_args,\n",
        "    train_dataset=train_data,\n",
        "    eval_dataset=val_data,\n",
        "    tokenizer=tokenizer,\n",
        ")\n"
      ],
      "metadata": {
        "id": "55JKzIl9hV6-"
      },
      "execution_count": null,
      "outputs": []
    },
    {
      "cell_type": "code",
      "source": [
        "print(\"training model\")\n",
        "trainer.train()\n"
      ],
      "metadata": {
        "id": "iL_amx4Whcf_"
      },
      "execution_count": null,
      "outputs": []
    },
    {
      "cell_type": "code",
      "source": [],
      "metadata": {
        "colab": {
          "base_uri": "https://localhost:8080/"
        },
        "id": "WTQwwCZi5_Ar",
        "outputId": "38a2ac38-9638-47d2-ae45-0857c9212632"
      },
      "execution_count": null,
      "outputs": [
        {
          "output_type": "stream",
          "name": "stdout",
          "text": [
            "Initialized empty Git repository in /content/.git/\n"
          ]
        }
      ]
    }
  ]
}